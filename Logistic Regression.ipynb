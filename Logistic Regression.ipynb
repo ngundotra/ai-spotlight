{
 "cells": [
  {
   "cell_type": "markdown",
   "metadata": {},
   "source": [
    "# Logistic Regression\n",
    "---\n",
    "\n",
    "A machine learning system that learns to predict probability of binary distribution of variables.\n",
    "\n",
    "Used to classify different events based on the predicted probability of its occurence.\n",
    "\n",
    "Used to classify > 3 different events if multiple logistic regression models are trained in a sort of (1 vs All algorithm).\n",
    "\n",
    "## Data Preprocessing"
   ]
  },
  {
   "cell_type": "code",
   "execution_count": 93,
   "metadata": {
    "collapsed": false
   },
   "outputs": [],
   "source": [
    "import numpy, sys, os, re\n",
    "\n",
    "path = \"/Users/codetesting/machinelearn/Code/logisticReg/ex2\"\n",
    "# this is interpreted as absolute because it does have a leading /\n",
    "\n",
    "ex2data1 = os.path.join(path, \"ex2data1.txt\")\n",
    "\n",
    "# with open(ex2data1) as ex2data:\n",
    "#     data = ex2data.read()\n",
    "# with statement --> ex2data.closed = true\n",
    "\n",
    "y = []\n",
    "X = []\n",
    "with open(ex2data1) as ex2data1:\n",
    "    for line in ex2data1:\n",
    "        values = re.split(\",\", line.strip()) # splits line on ,\n",
    "        values = map(float, values) # converts list of strings to float\n",
    "        X.append(values[:2]) # makes X an m x 2 list\n",
    "        y.append(values[2]) # makes Y an m x 1 list\n"
   ]
  },
  {
   "cell_type": "markdown",
   "metadata": {},
   "source": [
    "All data taken from Prof. Ng's Machine Learning class on Coursera.\n",
    "\n",
    "Thank you!\n",
    "\n",
    "## Numpy & Algorithmic Set-up"
   ]
  }
 ],
 "metadata": {
  "kernelspec": {
   "display_name": "Python 2",
   "language": "python",
   "name": "python2"
  },
  "language_info": {
   "codemirror_mode": {
    "name": "ipython",
    "version": 2
   },
   "file_extension": ".py",
   "mimetype": "text/x-python",
   "name": "python",
   "nbconvert_exporter": "python",
   "pygments_lexer": "ipython2",
   "version": "2.7.10"
  }
 },
 "nbformat": 4,
 "nbformat_minor": 0
}
