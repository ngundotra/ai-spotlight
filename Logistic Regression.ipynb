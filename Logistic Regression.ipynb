{
 "cells": [
  {
   "cell_type": "code",
   "execution_count": 47,
   "metadata": {
    "collapsed": false
   },
   "outputs": [
    {
     "name": "stdout",
     "output_type": "stream",
     "text": [
      "/Users/codetesting/github/ai-spotlight\n"
     ]
    },
    {
     "data": {
      "text/plain": [
       "<open file '/Users/codetesting/machinelearn/Code/logisticReg/ex2/ex2data1.txt', mode 'r' at 0x1078a36f0>"
      ]
     },
     "execution_count": 47,
     "metadata": {},
     "output_type": "execute_result"
    }
   ],
   "source": [
    "import numpy, sys, os\n",
    "\n",
    "print os.getcwd()\n",
    "path = \"/Users/codetesting/machinelearn/Code/logisticReg/ex2\"\n",
    "# this is interpreted as absolute because it does have a leading /\n",
    "ex2data1 = os.path.join(path, \"ex2data1.txt\")\n",
    "open(ex2data1)"
   ]
  }
 ],
 "metadata": {
  "kernelspec": {
   "display_name": "Python 2",
   "language": "python",
   "name": "python2"
  },
  "language_info": {
   "codemirror_mode": {
    "name": "ipython",
    "version": 2
   },
   "file_extension": ".py",
   "mimetype": "text/x-python",
   "name": "python",
   "nbconvert_exporter": "python",
   "pygments_lexer": "ipython2",
   "version": "2.7.10"
  }
 },
 "nbformat": 4,
 "nbformat_minor": 0
}
