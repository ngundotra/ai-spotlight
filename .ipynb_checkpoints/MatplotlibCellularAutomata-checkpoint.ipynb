{
 "cells": [
  {
   "cell_type": "code",
   "execution_count": 1,
   "metadata": {
    "collapsed": true
   },
   "outputs": [],
   "source": [
    "% matplotlib inline"
   ]
  },
  {
   "cell_type": "code",
   "execution_count": 3,
   "metadata": {
    "collapsed": false
   },
   "outputs": [
    {
     "data": {
      "image/png": "[encoded data removed]",
      "text/plain": [
       "<matplotlib.figure.Figure at 0x107e37b90>"
      ]
     },
     "metadata": {},
     "output_type": "display_data"
    }
   ],
   "source": [
    "################################################################################\n",
    "# conway.py\n",
    "#\n",
    "# Author: electronut.in\n",
    "# \n",
    "# Description:\n",
    "#\n",
    "# A simple Python/matplotlib implementation of Conway's Game of Life.\n",
    "################################################################################\n",
    "\n",
    "import numpy as np\n",
    "import matplotlib.pyplot as plt \n",
    "import matplotlib.animation as animation\n",
    "\n",
    "N = 100\n",
    "ON = 255\n",
    "OFF = 0\n",
    "vals = [ON, OFF]\n",
    "\n",
    "# populate grid with random on/off - more off than on\n",
    "grid = np.random.choice(vals, N*N, p=[0.2, 0.8]).reshape(N, N)\n",
    "\n",
    "def update(data):\n",
    "  global grid\n",
    "  # copy grid since we require 8 neighbors for calculation\n",
    "  # and we go line by line \n",
    "  newGrid = grid.copy()\n",
    "  for i in range(N):\n",
    "    for j in range(N):\n",
    "      # compute 8-neghbor sum \n",
    "      # using toroidal boundary conditions - x and y wrap around \n",
    "      # so that the simulaton takes place on a toroidal surface.\n",
    "      total = (grid[i, (j-1)%N] + grid[i, (j+1)%N] + \n",
    "               grid[(i-1)%N, j] + grid[(i+1)%N, j] + \n",
    "               grid[(i-1)%N, (j-1)%N] + grid[(i-1)%N, (j+1)%N] + \n",
    "               grid[(i+1)%N, (j-1)%N] + grid[(i+1)%N, (j+1)%N])/255\n",
    "      # apply Conway's rules\n",
    "      if grid[i, j]  == ON:\n",
    "        if (total < 2) or (total > 3):\n",
    "          newGrid[i, j] = OFF\n",
    "      else:\n",
    "        if total == 3:\n",
    "          newGrid[i, j] = ON\n",
    "  # update data\n",
    "  mat.set_data(newGrid)\n",
    "  grid = newGrid\n",
    "  return [mat]\n",
    "\n",
    "# set up animation\n",
    "fig, ax = plt.subplots()\n",
    "mat = ax.matshow(grid)\n",
    "ani = animation.FuncAnimation(fig, update, interval=50,\n",
    "                              save_count=50)\n",
    "plt.show()"
   ]
  }
 ],
 "metadata": {
  "kernelspec": {
   "display_name": "Python 2",
   "language": "python",
   "name": "python2"
  },
  "language_info": {
   "codemirror_mode": {
    "name": "ipython",
    "version": 2
   },
   "file_extension": ".py",
   "mimetype": "text/x-python",
   "name": "python",
   "nbconvert_exporter": "python",
   "pygments_lexer": "ipython2",
   "version": "2.7.11"
  }
 },
 "nbformat": 4,
 "nbformat_minor": 0
}
