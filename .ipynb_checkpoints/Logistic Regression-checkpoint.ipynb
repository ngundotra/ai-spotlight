{
 "cells": [
  {
   "cell_type": "markdown",
   "metadata": {},
   "source": [
    "# Logistic Regression\n",
    "---\n",
    "\n",
    "A machine learning system that learns to predict probability of binary distribution of variables.\n",
    "\n",
    "Used to classify different events based on the predicted probability of its occurence.\n",
    "\n",
    "Used to classify > 3 different events if multiple logistic regression models are trained in a sort of (1 vs All algorithm).\n",
    "\n",
    "## Data Preprocessing"
   ]
  },
  {
   "cell_type": "code",
   "execution_count": 40,
   "metadata": {
    "collapsed": false
   },
   "outputs": [
    {
     "name": "stdout",
     "output_type": "stream",
     "text": [
      "200\n"
     ]
    },
    {
     "data": {
      "image/png": "[encoded data removed]",
      "text/plain": [
       "<matplotlib.figure.Figure at 0x1091bab90>"
      ]
     },
     "metadata": {},
     "output_type": "display_data"
    }
   ],
   "source": [
    "import sys, os, re\n",
    "import numpy as np\n",
    "import matplotlib.pyplot as plt\n",
    "% matplotlib inline\n",
    "# NEVER FORGET MATPLOTLIB INLINE!!!\n",
    "\n",
    "path = \"/Users/codetesting/machinelearn/Code/logisticReg/ex2\"\n",
    "# this is interpreted as absolute because it does have a leading /\n",
    "\n",
    "ex2data1 = os.path.join(path, \"ex2data1.txt\")\n",
    "\n",
    "# with open(ex2data1) as ex2data:\n",
    "#     data = ex2data.read()\n",
    "# with statement --> ex2data.closed = true\n",
    "\n",
    "y = []\n",
    "X = []\n",
    "with open(ex2data1) as ex2data1:\n",
    "    for line in ex2data1:\n",
    "        values = re.split(\",\", line.strip()) # splits line on ,\n",
    "        values = map(float, values) # converts list of strings to float\n",
    "        X.append(values[:2]) # makes X an m x 2 list (adds a list to X)\n",
    "        y.append(values[2]) # makes Y an m x 1 list\n",
    "\n",
    "X = np.array(X)\n",
    "y = np.array(y)\n",
    "\n",
    "x1 = X.take(0,1) # gets first column\n",
    "x2 = X.take(1,1) # gets second column\n",
    "\n",
    "posX1 = posX2 = negX1 = negX2 = []\n",
    "for i in range(X.shape[0]):\n",
    "    if y.item(i) == 1:\n",
    "        posX1.append(x1.item(i))\n",
    "        posX2.append(x2.item(i))\n",
    "    elif y.item(i) == 0:\n",
    "        negX1.append(x1.item(i))\n",
    "        negX2.append(x2.item(i))\n",
    "plt.scatter(posX1,posX2,c='r',marker='x')\n",
    "plt.scatter(negX1,negX2,c='b',marker='o')\n",
    "plt.xlim(30,100)\n",
    "plt.ylim(30,100)\n",
    "plt.xlabel(\"Exam 1 Score\")\n",
    "plt.ylabel(\"Exam 2 Score\")\n",
    "plt.show()"
   ]
  },
  {
   "cell_type": "markdown",
   "metadata": {},
   "source": [
    "All data taken from Prof. Ng's Machine Learning class on Coursera.\n",
    "\n",
    "Thank you!\n",
    "\n",
    "## Numpy & Algorithmic Set-up"
   ]
  },
  {
   "cell_type": "code",
   "execution_count": null,
   "metadata": {
    "collapsed": true
   },
   "outputs": [],
   "source": []
  }
 ],
 "metadata": {
  "kernelspec": {
   "display_name": "Python 2",
   "language": "python",
   "name": "python2"
  },
  "language_info": {
   "codemirror_mode": {
    "name": "ipython",
    "version": 2
   },
   "file_extension": ".py",
   "mimetype": "text/x-python",
   "name": "python",
   "nbconvert_exporter": "python",
   "pygments_lexer": "ipython2",
   "version": "2.7.10"
  }
 },
 "nbformat": 4,
 "nbformat_minor": 0
}
